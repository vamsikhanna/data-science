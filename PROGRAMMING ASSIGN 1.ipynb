{
 "cells": [
  {
   "cell_type": "markdown",
   "metadata": {},
   "source": [
    "1.\tWrite a Python program to print \"Hello Python\"?\n",
    "\n",
    "myvar=\"Hello Python\"\n",
    "print(myvar)\n",
    "\n",
    "o/p:Hello Python\n",
    "2.\tWrite a Python program to do arithmetical operations addition and division.?\n",
    "a=10\n",
    "b=2\n",
    "print(a+b)\n",
    "print(a/b)\n",
    "\n",
    "o/p:12,5.0\n",
    "\n",
    "3.\tWrite a Python program to find the area of a triangle?\n",
    "a=int(input(\"enter the value of height\"))\n",
    "b=int(input(\"enter the value of base\"))\n",
    "print(\"area of triangle you enter is\",(a*b)/2)\n",
    "\n",
    "enter  the value of height  5\n",
    "enter the value of base  20\n",
    "area of triangle you enter is 25.0\n",
    "\n",
    "\n",
    "4.\tWrite a Python program to swap two variables?\n",
    "# Python program to swap two variables\n",
    "\n",
    "x = 5\n",
    "y = 10\n",
    "\n",
    "# To take inputs from the user\n",
    "#x = input('Enter value of x: ')\n",
    "#y = input('Enter value of y: ')\n",
    "\n",
    "# create a temporary variable and swap the values\n",
    "temp = x\n",
    "x = y\n",
    "y = temp\n",
    "\n",
    "print('The value of x after swapping: {}'.format(x))\n",
    "print('The value of y after swapping: {}'.format(y))\n",
    "\n",
    "o/p:x=5 y=10\n",
    "\n",
    "5.\tWrite a Python program to generate a random number?\n",
    "\n"
   ]
  }
 ],
 "metadata": {
  "kernelspec": {
   "display_name": "Python 3",
   "language": "python",
   "name": "python3"
  },
  "language_info": {
   "codemirror_mode": {
    "name": "ipython",
    "version": 3
   },
   "file_extension": ".py",
   "mimetype": "text/x-python",
   "name": "python",
   "nbconvert_exporter": "python",
   "pygments_lexer": "ipython3",
   "version": "3.8.5"
  }
 },
 "nbformat": 4,
 "nbformat_minor": 4
}
