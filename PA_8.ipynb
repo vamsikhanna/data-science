{
 "cells": [
  {
   "cell_type": "markdown",
   "id": "a841c01e",
   "metadata": {},
   "source": [
    "# 1.Write a Python Program to Add Two Matrices?"
   ]
  },
  {
   "cell_type": "code",
   "execution_count": 1,
   "id": "300b454d",
   "metadata": {},
   "outputs": [
    {
     "name": "stdout",
     "output_type": "stream",
     "text": [
      "[[10, 10, 10], [10, 10, 10], [10, 10, 10]]\n"
     ]
    }
   ],
   "source": [
    "def add_matrices(mat1, mat2):\n",
    "    if len(mat1) != len(mat2) or len(mat1[0]) != len(mat2[0]):\n",
    "        return \"Error: Matrices are not of the same size\"\n",
    "    else:\n",
    "        result = []\n",
    "        for i in range(len(mat1)):\n",
    "            row = []\n",
    "            for j in range(len(mat1[0])):\n",
    "                row.append(mat1[i][j] + mat2[i][j])\n",
    "            result.append(row)\n",
    "        return result\n",
    "\n",
    "mat1 = [[1, 2, 3], [4, 5, 6], [7, 8, 9]]\n",
    "mat2 = [[9, 8, 7], [6, 5, 4], [3, 2, 1]]\n",
    "print(add_matrices(mat1, mat2))\n",
    "# prints [[10, 10, 10], [10, 10, 10], [10, 10, 10]]\n"
   ]
  },
  {
   "cell_type": "markdown",
   "id": "2b5a5cb8",
   "metadata": {},
   "source": [
    "# 2.Write a Python Program to Multiply Two Matrices?"
   ]
  },
  {
   "cell_type": "code",
   "execution_count": 2,
   "id": "a60d4d55",
   "metadata": {},
   "outputs": [
    {
     "name": "stdout",
     "output_type": "stream",
     "text": [
      "[[58, 64], [139, 154]]\n"
     ]
    }
   ],
   "source": [
    "def multiply_matrices(mat1, mat2):\n",
    "    if len(mat1[0]) != len(mat2):\n",
    "        return \"Error: The number of columns of the first matrix must be equal to the number of rows of the second matrix.\"\n",
    "    else:\n",
    "        result = [[0 for j in range(len(mat2[0]))] for i in range(len(mat1))]\n",
    "        for i in range(len(mat1)):\n",
    "            for j in range(len(mat2[0])):\n",
    "                for k in range(len(mat2)):\n",
    "                    result[i][j] += mat1[i][k] * mat2[k][j]\n",
    "        return result\n",
    "\n",
    "mat1 = [[1, 2, 3], [4, 5, 6]]\n",
    "mat2 = [[7, 8], [9, 10], [11, 12]]\n",
    "print(multiply_matrices(mat1, mat2))\n",
    "# prints [[58, 64], [139, 154]]\n"
   ]
  },
  {
   "cell_type": "markdown",
   "id": "f4571c4d",
   "metadata": {},
   "source": [
    "# 3.Write a Python Program to Transpose a Matrix?"
   ]
  },
  {
   "cell_type": "code",
   "execution_count": 3,
   "id": "8349ab77",
   "metadata": {},
   "outputs": [
    {
     "name": "stdout",
     "output_type": "stream",
     "text": [
      "[[1, 4, 7], [2, 5, 8], [3, 6, 9]]\n"
     ]
    }
   ],
   "source": [
    "def transpose(matrix):\n",
    "    return [[row[i] for row in matrix] for i in range(len(matrix[0]))]\n",
    "\n",
    "matrix = [[1, 2, 3], [4, 5, 6], [7, 8, 9]]\n",
    "transposed_matrix = transpose(matrix)\n",
    "print(transposed_matrix)\n"
   ]
  },
  {
   "cell_type": "markdown",
   "id": "a1b3390c",
   "metadata": {},
   "source": [
    "# 4.Write a Python Program to Sort Words in Alphabetic Order?"
   ]
  },
  {
   "cell_type": "code",
   "execution_count": 4,
   "id": "4bf52c90",
   "metadata": {},
   "outputs": [
    {
     "name": "stdout",
     "output_type": "stream",
     "text": [
      "['bird', 'cat', 'dog', 'fish']\n"
     ]
    }
   ],
   "source": [
    "def sort_words(words):\n",
    "    return sorted(words)\n",
    "\n",
    "words = ['cat', 'dog', 'bird', 'fish']\n",
    "sorted_words = sort_words(words)\n",
    "print(sorted_words)\n"
   ]
  },
  {
   "cell_type": "markdown",
   "id": "63f68a91",
   "metadata": {},
   "source": [
    "# 5.Write a Python Program to Remove Punctuation From a String?"
   ]
  },
  {
   "cell_type": "code",
   "execution_count": 5,
   "id": "2ecfbcf5",
   "metadata": {},
   "outputs": [
    {
     "name": "stdout",
     "output_type": "stream",
     "text": [
      "Hello World How are you today\n"
     ]
    }
   ],
   "source": [
    "import string\n",
    "\n",
    "def remove_punctuation(input_string):\n",
    "    # Make a translator object to remove punctuation\n",
    "    translator = str.maketrans('', '', string.punctuation)\n",
    "\n",
    "    # Use this translator\n",
    "    no_punct = input_string.translate(translator)\n",
    "    return no_punct\n",
    "\n",
    "# Test the function\n",
    "s = \"Hello, World! How are you today?\"\n",
    "print(remove_punctuation(s)) # \"Hello World How are you today\"\n"
   ]
  },
  {
   "cell_type": "code",
   "execution_count": null,
   "id": "0a3f3d6f",
   "metadata": {},
   "outputs": [],
   "source": []
  }
 ],
 "metadata": {
  "kernelspec": {
   "display_name": "Python 3 (ipykernel)",
   "language": "python",
   "name": "python3"
  },
  "language_info": {
   "codemirror_mode": {
    "name": "ipython",
    "version": 3
   },
   "file_extension": ".py",
   "mimetype": "text/x-python",
   "name": "python",
   "nbconvert_exporter": "python",
   "pygments_lexer": "ipython3",
   "version": "3.8.5"
  }
 },
 "nbformat": 4,
 "nbformat_minor": 5
}
