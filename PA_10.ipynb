{
 "cells": [
  {
   "cell_type": "markdown",
   "id": "33842162",
   "metadata": {},
   "source": [
    "# 1.\tWrite a Python program to find sum of elements in list"
   ]
  },
  {
   "cell_type": "code",
   "execution_count": 1,
   "id": "ec3781b4",
   "metadata": {},
   "outputs": [
    {
     "name": "stdout",
     "output_type": "stream",
     "text": [
      "The sum of the list is: 30\n",
      "The sum of the list is: 30\n"
     ]
    }
   ],
   "source": [
    "my_list = [2, 4, 6, 8, 10]\n",
    "\n",
    "# Using the built-in sum() function\n",
    "list_sum = sum(my_list)\n",
    "print(\"The sum of the list is:\", list_sum)\n",
    "\n",
    "# Using a for loop\n",
    "total = 0\n",
    "for i in my_list:\n",
    "    total += i\n",
    "print(\"The sum of the list is:\", total)\n"
   ]
  },
  {
   "cell_type": "markdown",
   "id": "956de65e",
   "metadata": {},
   "source": [
    "# 2.\tWrite a Python program to  Multiply all numbers in the list?"
   ]
  },
  {
   "cell_type": "code",
   "execution_count": 2,
   "id": "6f7773f4",
   "metadata": {},
   "outputs": [
    {
     "name": "stdout",
     "output_type": "stream",
     "text": [
      "The product of the list is: 3840\n"
     ]
    }
   ],
   "source": [
    "my_list = [2, 4, 6, 8, 10]\n",
    "\n",
    "# Using a for loop\n",
    "total = 1\n",
    "for i in my_list:\n",
    "    total *= i\n",
    "print(\"The product of the list is:\", total)\n"
   ]
  },
  {
   "cell_type": "markdown",
   "id": "4305c543",
   "metadata": {},
   "source": [
    "# 3.\tWrite a Python program to find smallest number in a list?"
   ]
  },
  {
   "cell_type": "code",
   "execution_count": 4,
   "id": "dd470b10",
   "metadata": {},
   "outputs": [
    {
     "name": "stdout",
     "output_type": "stream",
     "text": [
      "The smallest number in the list is: 0\n",
      "The smallest number in the list is: 0\n"
     ]
    }
   ],
   "source": [
    "my_list = [0,10, 5, 2, 8, 3]\n",
    "\n",
    "# Using the built-in min() function\n",
    "min_num = min(my_list)\n",
    "print(\"The smallest number in the list is:\", min_num)\n",
    "\n",
    "# Using a for loop\n",
    "min_num = my_list[0]\n",
    "for i in my_list:\n",
    "    if i < min_num:\n",
    "        min_num = i\n",
    "print(\"The smallest number in the list is:\", min_num)\n"
   ]
  },
  {
   "cell_type": "markdown",
   "id": "405013fe",
   "metadata": {},
   "source": [
    "# 4.\tWrite a Python program to find largest number in a list?"
   ]
  },
  {
   "cell_type": "code",
   "execution_count": 5,
   "id": "5c8a1279",
   "metadata": {},
   "outputs": [
    {
     "name": "stdout",
     "output_type": "stream",
     "text": [
      "The largest number in the list is: 10\n",
      "The largest number in the list is: 10\n"
     ]
    }
   ],
   "source": [
    "my_list = [10, 5, 2, 8, 3]\n",
    "\n",
    "# Using the built-in max() function\n",
    "max_num = max(my_list)\n",
    "print(\"The largest number in the list is:\", max_num)\n",
    "\n",
    "# Using a for loop\n",
    "max_num = my_list[0]\n",
    "for i in my_list:\n",
    "    if i > max_num:\n",
    "        max_num = i\n",
    "print(\"The largest number in the list is:\", max_num)\n"
   ]
  },
  {
   "cell_type": "markdown",
   "id": "98bf0807",
   "metadata": {},
   "source": [
    "# 5.\tWrite a Python program to find second largest number in a list?"
   ]
  },
  {
   "cell_type": "code",
   "execution_count": 8,
   "id": "9545d407",
   "metadata": {},
   "outputs": [
    {
     "name": "stdout",
     "output_type": "stream",
     "text": [
      "The second largest number in the list is: 8\n",
      "The second largest number in the list is: 8\n"
     ]
    }
   ],
   "source": [
    "my_list = [10, 5, 2, 8, 3]\n",
    "\n",
    "# Sorting the list and taking the second-to-last element\n",
    "sorted_list = sorted(my_list)\n",
    "second_largest = sorted_list[-2]\n",
    "print(\"The second largest number in the list is:\", second_largest)\n",
    "\n",
    "# Using a for loop\n",
    "largest = my_list[0]\n",
    "second_largest = None\n",
    "for i in my_list[1:]:\n",
    "    if i > largest:\n",
    "        second_largest = largest\n",
    "        largest = i\n",
    "    elif second_largest is None or i > second_largest:\n",
    "        second_largest = i\n",
    "print(\"The second largest number in the list is:\", second_largest)\n"
   ]
  },
  {
   "cell_type": "markdown",
   "id": "0dc46cb9",
   "metadata": {},
   "source": [
    "# 6.\tWrite a Python program to find N largest elements from a list?"
   ]
  },
  {
   "cell_type": "code",
   "execution_count": 9,
   "id": "4cbb92f8",
   "metadata": {},
   "outputs": [
    {
     "name": "stdout",
     "output_type": "stream",
     "text": [
      "The 3 largest numbers in the list are: [10, 8, 5]\n",
      "The 3 largest numbers in the list are: [10, 8, 5]\n"
     ]
    }
   ],
   "source": [
    "my_list = [10, 5, 2, 8, 3]\n",
    "N = 3\n",
    "\n",
    "# Using the sorted() function\n",
    "largest_N = sorted(my_list, reverse=True)[:N]\n",
    "print(f\"The {N} largest numbers in the list are: {largest_N}\")\n",
    "\n",
    "# Using a loop and a heapq module\n",
    "import heapq\n",
    "largest_N = heapq.nlargest(N, my_list)\n",
    "print(f\"The {N} largest numbers in the list are: {largest_N}\")\n"
   ]
  },
  {
   "cell_type": "markdown",
   "id": "4f6c633f",
   "metadata": {},
   "source": [
    "# 7.\tWrite a Python program to print even numbers in a list?"
   ]
  },
  {
   "cell_type": "code",
   "execution_count": 10,
   "id": "ed2a4442",
   "metadata": {},
   "outputs": [
    {
     "name": "stdout",
     "output_type": "stream",
     "text": [
      "Even numbers in the list:\n",
      "2\n",
      "4\n",
      "6\n",
      "8\n",
      "10\n",
      "Even numbers in the list: [2, 4, 6, 8, 10]\n"
     ]
    }
   ],
   "source": [
    "my_list = [1, 2, 3, 4, 5, 6, 7, 8, 9, 10]\n",
    "\n",
    "# Using a for loop and an if statement\n",
    "print(\"Even numbers in the list:\")\n",
    "for num in my_list:\n",
    "    if num % 2 == 0:\n",
    "        print(num)\n",
    "\n",
    "# Using a list comprehension\n",
    "even_nums = [num for num in my_list if num % 2 == 0]\n",
    "print(\"Even numbers in the list:\", even_nums)\n"
   ]
  },
  {
   "cell_type": "markdown",
   "id": "a8e0bfb0",
   "metadata": {},
   "source": [
    "# 8.\tWrite a Python program to print odd numbers in a List?"
   ]
  },
  {
   "cell_type": "code",
   "execution_count": 11,
   "id": "5baf3863",
   "metadata": {},
   "outputs": [
    {
     "name": "stdout",
     "output_type": "stream",
     "text": [
      "ODD numbers in the list:\n",
      "1\n",
      "3\n",
      "5\n",
      "7\n",
      "9\n",
      "ODD numbers in the list: [1, 3, 5, 7, 9]\n"
     ]
    }
   ],
   "source": [
    "my_list = [1, 2, 3, 4, 5, 6, 7, 8, 9, 10]\n",
    "\n",
    "# Using a for loop and an if statement\n",
    "print(\"ODD numbers in the list:\")\n",
    "for num in my_list:\n",
    "    if num % 2 == 1:\n",
    "        print(num)\n",
    "\n",
    "# Using a list comprehension\n",
    "odd_nums = [num for num in my_list if num % 2 == 1]\n",
    "print(\"ODD numbers in the list:\", odd_nums)\n"
   ]
  },
  {
   "cell_type": "markdown",
   "id": "918c4c23",
   "metadata": {},
   "source": [
    "# 9.\tWrite a Python program to Remove empty List from List?"
   ]
  },
  {
   "cell_type": "code",
   "execution_count": 16,
   "id": "e99280bf",
   "metadata": {},
   "outputs": [
    {
     "name": "stdout",
     "output_type": "stream",
     "text": [
      "The original list is : [5, 6, [], 3, [], [], 9]\n",
      "List after empty list removal : [5, 6, 3, 9]\n"
     ]
    }
   ],
   "source": [
    "# Initializing list\n",
    "test_list = [5, 6, [], 3, [], [], 9]\n",
    "\n",
    "# printing original list\n",
    "print(\"The original list is : \" + str(test_list))\n",
    "\n",
    "# Remove empty List from List\n",
    "# using list comprehension\n",
    "res = [ele for ele in test_list if ele != []]\n",
    "\n",
    "# printing result\n",
    "print(\"List after empty list removal : \" + str(res))\n"
   ]
  },
  {
   "cell_type": "markdown",
   "id": "e49ebea8",
   "metadata": {},
   "source": [
    "# 10.\tWrite a Python program to Cloning or Copying a list?"
   ]
  },
  {
   "cell_type": "code",
   "execution_count": 17,
   "id": "a08f366e",
   "metadata": {},
   "outputs": [
    {
     "name": "stdout",
     "output_type": "stream",
     "text": [
      "Original List: [1, 2, 3, 4, 5]\n",
      "Cloned List: [1, 2, 3, 4, 5]\n"
     ]
    }
   ],
   "source": [
    "original_list = [1, 2, 3, 4, 5]\n",
    "cloned_list = original_list[:]\n",
    "\n",
    "print(\"Original List:\", original_list)\n",
    "print(\"Cloned List:\", cloned_list)\n"
   ]
  },
  {
   "cell_type": "markdown",
   "id": "16e6953c",
   "metadata": {},
   "source": [
    "# 11.\tWrite a Python program to Count occurrences of an element in a list?"
   ]
  },
  {
   "cell_type": "code",
   "execution_count": 19,
   "id": "54f94024",
   "metadata": {},
   "outputs": [
    {
     "name": "stdout",
     "output_type": "stream",
     "text": [
      "List: [1, 2, 3, 4, 1, 2, 1, 5, 6, 7, 1]\n",
      "Number of occurrences of 1: 2\n"
     ]
    }
   ],
   "source": [
    "my_list = [1, 2, 3, 4, 1, 2, 1, 5, 6, 7, 1]\n",
    "\n",
    "count = my_list.count(2)\n",
    "\n",
    "print(\"List:\", my_list)\n",
    "print(\"Number of occurrences of 1:\", count)\n"
   ]
  },
  {
   "cell_type": "code",
   "execution_count": null,
   "id": "183a30d6",
   "metadata": {},
   "outputs": [],
   "source": []
  }
 ],
 "metadata": {
  "kernelspec": {
   "display_name": "Python 3 (ipykernel)",
   "language": "python",
   "name": "python3"
  },
  "language_info": {
   "codemirror_mode": {
    "name": "ipython",
    "version": 3
   },
   "file_extension": ".py",
   "mimetype": "text/x-python",
   "name": "python",
   "nbconvert_exporter": "python",
   "pygments_lexer": "ipython3",
   "version": "3.8.5"
  }
 },
 "nbformat": 4,
 "nbformat_minor": 5
}
