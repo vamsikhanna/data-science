{
 "cells": [
  {
   "cell_type": "markdown",
   "id": "4ba871be",
   "metadata": {},
   "source": [
    "# 1.Write a Python Program to find sum of array?"
   ]
  },
  {
   "cell_type": "code",
   "execution_count": 1,
   "id": "409ef641",
   "metadata": {},
   "outputs": [
    {
     "name": "stdout",
     "output_type": "stream",
     "text": [
      "15\n"
     ]
    }
   ],
   "source": [
    "def sum_of_array(arr):\n",
    "    total = 0\n",
    "    for num in arr:\n",
    "        total += num\n",
    "    return total\n",
    "\n",
    "arr = [1, 2, 3, 4, 5]\n",
    "print(sum_of_array(arr)) # prints 15\n"
   ]
  },
  {
   "cell_type": "markdown",
   "id": "eb212b75",
   "metadata": {},
   "source": [
    "# 2.Write a Python Program to find largest element in an array?"
   ]
  },
  {
   "cell_type": "code",
   "execution_count": 2,
   "id": "ebe34c58",
   "metadata": {},
   "outputs": [
    {
     "name": "stdout",
     "output_type": "stream",
     "text": [
      "5\n"
     ]
    }
   ],
   "source": [
    "def largest_element(arr):\n",
    "    largest = arr[0]\n",
    "    for num in arr:\n",
    "        if num > largest:\n",
    "            largest = num\n",
    "    return largest\n",
    "\n",
    "arr = [1, 2, 3, 4, 5]\n",
    "print(largest_element(arr)) # prints 5\n"
   ]
  },
  {
   "cell_type": "markdown",
   "id": "fbb1a80e",
   "metadata": {},
   "source": [
    "# 3.Write a Python Program for array rotation?"
   ]
  },
  {
   "cell_type": "code",
   "execution_count": 3,
   "id": "eca88179",
   "metadata": {},
   "outputs": [
    {
     "name": "stdout",
     "output_type": "stream",
     "text": [
      "[3, 4, 5, 1, 2]\n"
     ]
    }
   ],
   "source": [
    "def rotate_array(arr, k):\n",
    "    for i in range(k):\n",
    "        temp = arr.pop(0)\n",
    "        arr.append(temp)\n",
    "    return arr\n",
    "\n",
    "arr = [1, 2, 3, 4, 5]\n",
    "k = 2\n",
    "print(rotate_array(arr, k)) # prints [3, 4, 5, 1, 2]\n"
   ]
  },
  {
   "cell_type": "markdown",
   "id": "d9dcb577",
   "metadata": {},
   "source": [
    "# 4.Write a Python Program to Split the array and add the first part to the end?"
   ]
  },
  {
   "cell_type": "code",
   "execution_count": 4,
   "id": "48aae020",
   "metadata": {},
   "outputs": [
    {
     "name": "stdout",
     "output_type": "stream",
     "text": [
      "[4, 5, 6, 7, 1, 2, 3]\n"
     ]
    }
   ],
   "source": [
    "def split_and_rotate(arr, k):\n",
    "    first_part = arr[:k]\n",
    "    second_part = arr[k:]\n",
    "    second_part.extend(first_part)\n",
    "    return second_part\n",
    "\n",
    "arr = [1, 2, 3, 4, 5, 6, 7]\n",
    "k = 3\n",
    "print(split_and_rotate(arr, k)) # prints [4, 5, 6, 7, 1, 2, 3]\n"
   ]
  },
  {
   "cell_type": "markdown",
   "id": "95f26f6e",
   "metadata": {},
   "source": [
    "# 5.Write a Python Program to check if given array is Monotonic?"
   ]
  },
  {
   "cell_type": "code",
   "execution_count": 5,
   "id": "00f1e93a",
   "metadata": {},
   "outputs": [
    {
     "name": "stdout",
     "output_type": "stream",
     "text": [
      "True\n",
      "True\n",
      "False\n"
     ]
    }
   ],
   "source": [
    "def is_monotonic(arr):\n",
    "    if len(arr) <= 1:\n",
    "        return True\n",
    "    else:\n",
    "        increasing = None\n",
    "        for i in range(len(arr) - 1):\n",
    "            if arr[i] < arr[i + 1]:\n",
    "                if increasing is None:\n",
    "                    increasing = True\n",
    "                elif increasing is False:\n",
    "                    return False\n",
    "            elif arr[i] > arr[i + 1]:\n",
    "                if increasing is None:\n",
    "                    increasing = False\n",
    "                elif increasing is True:\n",
    "                    return False\n",
    "        return True\n",
    "\n",
    "arr = [1, 2, 3, 4, 5]\n",
    "print(is_monotonic(arr)) # prints True\n",
    "\n",
    "arr = [5, 4, 3, 2, 1]\n",
    "print(is_monotonic(arr)) # prints True\n",
    "\n",
    "arr = [1, 1, 2, 3, 2, 1]\n",
    "print(is_monotonic(arr)) # prints False\n"
   ]
  },
  {
   "cell_type": "code",
   "execution_count": null,
   "id": "8c13dde7",
   "metadata": {},
   "outputs": [],
   "source": []
  },
  {
   "cell_type": "code",
   "execution_count": null,
   "id": "ac1f1a4e",
   "metadata": {},
   "outputs": [],
   "source": []
  }
 ],
 "metadata": {
  "kernelspec": {
   "display_name": "Python 3 (ipykernel)",
   "language": "python",
   "name": "python3"
  },
  "language_info": {
   "codemirror_mode": {
    "name": "ipython",
    "version": 3
   },
   "file_extension": ".py",
   "mimetype": "text/x-python",
   "name": "python",
   "nbconvert_exporter": "python",
   "pygments_lexer": "ipython3",
   "version": "3.8.5"
  }
 },
 "nbformat": 4,
 "nbformat_minor": 5
}
