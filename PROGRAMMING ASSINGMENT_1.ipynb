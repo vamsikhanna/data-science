{
 "cells": [
  {
   "cell_type": "markdown",
   "id": "5f13bc9c",
   "metadata": {},
   "source": [
    "# Write a Python program to print \"Hello Python\"?"
   ]
  },
  {
   "cell_type": "code",
   "execution_count": 1,
   "id": "2e5c06c8",
   "metadata": {},
   "outputs": [
    {
     "name": "stdout",
     "output_type": "stream",
     "text": [
      "Hello Python\n"
     ]
    }
   ],
   "source": [
    "print ('Hello Python')  "
   ]
  },
  {
   "cell_type": "markdown",
   "id": "a80fba3f",
   "metadata": {},
   "source": [
    "# Write a Python program to do arithmetical operations addition and division.?"
   ]
  },
  {
   "cell_type": "code",
   "execution_count": 2,
   "id": "26d65eb0",
   "metadata": {},
   "outputs": [
    {
     "name": "stdout",
     "output_type": "stream",
     "text": [
      "Enter first number: 10\n",
      "Enter second number: 20\n",
      "The sum of 10 and 20 is 30.0\n",
      "The subtraction of 10 and 20 is -10.0\n",
      "The multiplication of 10 and 20 is 200.0\n",
      "The division of 10 and 20 is 0.5\n"
     ]
    }
   ],
   "source": [
    "num1 = input('Enter first number: ')  \n",
    "num2 = input('Enter second number: ')  \n",
    "  \n",
    "# Add two numbers  \n",
    "sum = float(num1) + float(num2)  \n",
    "# Subtract two numbers  \n",
    "min = float(num1) - float(num2)  \n",
    "# Multiply two numbers  \n",
    "mul = float(num1) * float(num2)  \n",
    "#Divide two numbers  \n",
    "div = float(num1) / float(num2)  \n",
    "# Display the sum  \n",
    "print('The sum of {0} and {1} is {2}'.format(num1, num2, sum))  \n",
    "  \n",
    "# Display the subtraction  \n",
    "print('The subtraction of {0} and {1} is {2}'.format(num1, num2, min))  \n",
    "# Display the multiplication  \n",
    "print('The multiplication of {0} and {1} is {2}'.format(num1, num2, mul))  \n",
    "# Display the division  \n",
    "print('The division of {0} and {1} is {2}'.format(num1, num2, div))  "
   ]
  },
  {
   "cell_type": "markdown",
   "id": "56f17062",
   "metadata": {},
   "source": [
    "# Write a Python program to find the area of a triangle?"
   ]
  },
  {
   "cell_type": "code",
   "execution_count": 3,
   "id": "2248399d",
   "metadata": {},
   "outputs": [
    {
     "name": "stdout",
     "output_type": "stream",
     "text": [
      "Enter first side: 5\n",
      "Enter second side: 10\n",
      "Enter third side: 12\n",
      "The area of the triangle is 24.54\n"
     ]
    }
   ],
   "source": [
    "# Three sides of the triangle is a, b and c:  \n",
    "a = float(input('Enter first side: '))  \n",
    "b = float(input('Enter second side: '))  \n",
    "c = float(input('Enter third side: '))  \n",
    "  \n",
    "# calculate the semi-perimeter  \n",
    "s = (a + b + c) / 2  \n",
    "  \n",
    "# calculate the area  \n",
    "area = (s*(s-a)*(s-b)*(s-c)) ** 0.5  \n",
    "print('The area of the triangle is %0.2f' %area)"
   ]
  },
  {
   "cell_type": "markdown",
   "id": "1789e119",
   "metadata": {},
   "source": [
    "# Write a Python program to swap two variables?"
   ]
  },
  {
   "cell_type": "code",
   "execution_count": 5,
   "id": "8edb751a",
   "metadata": {},
   "outputs": [
    {
     "name": "stdout",
     "output_type": "stream",
     "text": [
      "Please enter value for P: 10\n",
      "Please enter value for Q: 20\n",
      "The Value of P after swapping:  20\n",
      "The Value of Q after swapping:  10\n"
     ]
    }
   ],
   "source": [
    "P = int( input(\"Please enter value for P: \"))  \n",
    "Q = int( input(\"Please enter value for Q: \"))  \n",
    "   \n",
    "# To swap the value of two variables  \n",
    "# we will user third variable which is a temporary variable  \n",
    "temp_1 = P  \n",
    "P = Q  \n",
    "Q = temp_1  \n",
    "   \n",
    "print (\"The Value of P after swapping: \", P)  \n",
    "print (\"The Value of Q after swapping: \", Q)  "
   ]
  },
  {
   "cell_type": "markdown",
   "id": "a9e055ea",
   "metadata": {},
   "source": [
    "# Write a Python program to generate a random number?"
   ]
  },
  {
   "cell_type": "code",
   "execution_count": null,
   "id": "e31f18c8",
   "metadata": {},
   "outputs": [],
   "source": [
    "import random  \n",
    "n = random.randint(100, 200)  \n",
    "print(n) "
   ]
  },
  {
   "cell_type": "code",
   "execution_count": null,
   "id": "3678f537",
   "metadata": {},
   "outputs": [],
   "source": []
  }
 ],
 "metadata": {
  "kernelspec": {
   "display_name": "Python 3 (ipykernel)",
   "language": "python",
   "name": "python3"
  },
  "language_info": {
   "codemirror_mode": {
    "name": "ipython",
    "version": 3
   },
   "file_extension": ".py",
   "mimetype": "text/x-python",
   "name": "python",
   "nbconvert_exporter": "python",
   "pygments_lexer": "ipython3",
   "version": "3.8.5"
  }
 },
 "nbformat": 4,
 "nbformat_minor": 5
}
