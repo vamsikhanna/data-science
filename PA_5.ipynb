{
 "cells": [
  {
   "cell_type": "markdown",
   "id": "08f05fc7",
   "metadata": {},
   "source": [
    "# 1.Write a Python Program to Find LCM?"
   ]
  },
  {
   "cell_type": "code",
   "execution_count": 1,
   "id": "5dad7310",
   "metadata": {},
   "outputs": [
    {
     "name": "stdout",
     "output_type": "stream",
     "text": [
      "Enter first number: 10\n",
      "Enter second number: 24\n",
      "The LCM of 10 and 24 is 120\n"
     ]
    }
   ],
   "source": [
    "def find_lcm(x, y):\n",
    "    if x > y:\n",
    "        greater = x\n",
    "    else:\n",
    "        greater = y\n",
    "    while(True):\n",
    "        if((greater % x == 0) and (greater % y == 0)):\n",
    "            lcm = greater\n",
    "            break\n",
    "        greater += 1\n",
    "    return lcm\n",
    "\n",
    "num1 = int(input(\"Enter first number: \"))\n",
    "num2 = int(input(\"Enter second number: \"))\n",
    "\n",
    "print(\"The LCM of\", num1,\"and\", num2,\"is\", find_lcm(num1, num2))\n"
   ]
  },
  {
   "cell_type": "markdown",
   "id": "3d9190fc",
   "metadata": {},
   "source": [
    "# 2.Write a Python Program to Find HCF?"
   ]
  },
  {
   "cell_type": "code",
   "execution_count": 2,
   "id": "c790845e",
   "metadata": {},
   "outputs": [
    {
     "name": "stdout",
     "output_type": "stream",
     "text": [
      "Enter first number: 12\n",
      "Enter second number: 20\n",
      "The HCF of 12 and 20 is 4\n"
     ]
    }
   ],
   "source": [
    "def hcf(x, y):\n",
    "   \"\"\"This function takes two integers and returns the HCF\"\"\"\n",
    "   # choose the smaller number\n",
    "   if x > y:\n",
    "       smaller = y\n",
    "   else:\n",
    "       smaller = x\n",
    "   for i in range(1,smaller + 1):\n",
    "       if((x % i == 0) and (y % i == 0)):\n",
    "           hcf = i\n",
    "   return hcf\n",
    "\n",
    "num1 = int(input(\"Enter first number: \"))\n",
    "num2 = int(input(\"Enter second number: \"))\n",
    "\n",
    "print(\"The HCF of\", num1,\"and\", num2,\"is\", hcf(num1, num2))\n"
   ]
  },
  {
   "cell_type": "markdown",
   "id": "ca4caa1d",
   "metadata": {},
   "source": [
    "# 3.Write a Python Program to Convert Decimal to Binary, Octal and Hexadecimal?"
   ]
  },
  {
   "cell_type": "code",
   "execution_count": 3,
   "id": "37d0f5e8",
   "metadata": {},
   "outputs": [
    {
     "name": "stdout",
     "output_type": "stream",
     "text": [
      "Enter a decimal number: 10\n",
      "The binary representation of 10 is 1010\n",
      "The octal representation of 10 is 12\n",
      "The hexadecimal representation of 10 is a\n"
     ]
    }
   ],
   "source": [
    "dec = int(input(\"Enter a decimal number: \"))\n",
    "\n",
    "print(\"The binary representation of\", dec,\"is\", bin(dec).replace(\"0b\", \"\"))\n",
    "print(\"The octal representation of\", dec,\"is\", oct(dec).replace(\"0o\", \"\"))\n",
    "print(\"The hexadecimal representation of\", dec,\"is\", hex(dec).replace(\"0x\", \"\"))\n"
   ]
  },
  {
   "cell_type": "markdown",
   "id": "e40b9bda",
   "metadata": {},
   "source": [
    "# 4.Write a Python Program To Find ASCII value of a character?"
   ]
  },
  {
   "cell_type": "code",
   "execution_count": 5,
   "id": "0524a7a8",
   "metadata": {},
   "outputs": [
    {
     "name": "stdout",
     "output_type": "stream",
     "text": [
      "Enter a character: a\n",
      "The ASCII value of 'a' is 97\n"
     ]
    }
   ],
   "source": [
    "char = input(\"Enter a character: \")\n",
    "\n",
    "print(\"The ASCII value of '\" + char + \"' is\", ord(char))\n"
   ]
  },
  {
   "cell_type": "code",
   "execution_count": 6,
   "id": "4de10927",
   "metadata": {},
   "outputs": [
    {
     "name": "stdout",
     "output_type": "stream",
     "text": [
      "Enter a character: e\n",
      "The ASCII value of 'e' is 101\n"
     ]
    }
   ],
   "source": [
    "char = input(\"Enter a character: \")\n",
    "\n",
    "print(\"The ASCII value of '%c' is %d\" % (char, ord(char)))\n"
   ]
  },
  {
   "cell_type": "markdown",
   "id": "afa6d5ad",
   "metadata": {},
   "source": [
    "# 5.Write a Python Program to Make a Simple Calculator with 4 basic mathematical operations"
   ]
  },
  {
   "cell_type": "code",
   "execution_count": 8,
   "id": "884eec1e",
   "metadata": {},
   "outputs": [
    {
     "name": "stdout",
     "output_type": "stream",
     "text": [
      "Enter first number: 12\n",
      "Enter operator: -\n",
      "Enter second number: 32\n",
      "-20.0\n"
     ]
    }
   ],
   "source": [
    "def calculator():\n",
    "    # take input from the user\n",
    "    num1 = float(input(\"Enter first number: \"))\n",
    "    operator = input(\"Enter operator: \")\n",
    "    num2 = float(input(\"Enter second number: \"))\n",
    "\n",
    "    if operator == \"+\":\n",
    "        print(num1 + num2)\n",
    "    elif operator == \"-\":\n",
    "        print(num1 - num2)\n",
    "    elif operator == \"*\":\n",
    "        print(num1 * num2)\n",
    "    elif operator == \"/\":\n",
    "        print(num1 / num2)\n",
    "    else:\n",
    "        print(\"Invalid operator\")\n",
    "\n",
    "# call the function\n",
    "calculator()\n"
   ]
  },
  {
   "cell_type": "code",
   "execution_count": null,
   "id": "cc6d6aa0",
   "metadata": {},
   "outputs": [],
   "source": []
  },
  {
   "cell_type": "code",
   "execution_count": null,
   "id": "661d81f8",
   "metadata": {},
   "outputs": [],
   "source": []
  }
 ],
 "metadata": {
  "kernelspec": {
   "display_name": "Python 3 (ipykernel)",
   "language": "python",
   "name": "python3"
  },
  "language_info": {
   "codemirror_mode": {
    "name": "ipython",
    "version": 3
   },
   "file_extension": ".py",
   "mimetype": "text/x-python",
   "name": "python",
   "nbconvert_exporter": "python",
   "pygments_lexer": "ipython3",
   "version": "3.8.5"
  }
 },
 "nbformat": 4,
 "nbformat_minor": 5
}
