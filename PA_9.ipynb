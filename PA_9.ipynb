{
 "cells": [
  {
   "cell_type": "markdown",
   "id": "2a73993c",
   "metadata": {},
   "source": [
    "# 1.Write a Python program to check if the given number is a Disarium Number?"
   ]
  },
  {
   "cell_type": "code",
   "execution_count": 2,
   "id": "db54a4df",
   "metadata": {},
   "outputs": [
    {
     "name": "stdout",
     "output_type": "stream",
     "text": [
      "Enter a number: 89\n",
      "89 is a Disarium Number\n"
     ]
    }
   ],
   "source": [
    "def is_disarium(num):\n",
    "    num_str = str(num)\n",
    "    length = len(num_str)\n",
    "    sum = 0\n",
    "    for i in range(length):\n",
    "        sum += int(num_str[i])**(i+1)\n",
    "    return sum == num\n",
    "\n",
    "number = int(input(\"Enter a number: \"))\n",
    "result = is_disarium(number)\n",
    "if result:\n",
    "    print(number, \"is a Disarium Number\")\n",
    "else:\n",
    "    print(number, \"is not a Disarium Number\")\n"
   ]
  },
  {
   "cell_type": "markdown",
   "id": "324044b3",
   "metadata": {},
   "source": [
    "# 2.Write a Python program to print all disarium numbers between 1 to 100?"
   ]
  },
  {
   "cell_type": "code",
   "execution_count": 3,
   "id": "e9fd4fa1",
   "metadata": {},
   "outputs": [
    {
     "name": "stdout",
     "output_type": "stream",
     "text": [
      "Disarium numbers between 1 and 100:\n",
      "1\n",
      "2\n",
      "3\n",
      "4\n",
      "5\n",
      "6\n",
      "7\n",
      "8\n",
      "9\n",
      "89\n"
     ]
    }
   ],
   "source": [
    "def is_disarium(num):\n",
    "    num_str = str(num)\n",
    "    length = len(num_str)\n",
    "    sum = 0\n",
    "    for i in range(length):\n",
    "        sum += int(num_str[i])**(i+1)\n",
    "    return sum == num\n",
    "\n",
    "print(\"Disarium numbers between 1 and 100:\")\n",
    "for i in range(1,101):\n",
    "    if is_disarium(i):\n",
    "        print(i)\n"
   ]
  },
  {
   "cell_type": "markdown",
   "id": "a94d6c83",
   "metadata": {},
   "source": [
    "# 3.Write a Python program to check if the given number is Happy Number?"
   ]
  },
  {
   "cell_type": "code",
   "execution_count": 4,
   "id": "8ab8e75b",
   "metadata": {},
   "outputs": [
    {
     "name": "stdout",
     "output_type": "stream",
     "text": [
      "Enter a number: 44\n",
      "44 is a Happy Number\n"
     ]
    }
   ],
   "source": [
    "def is_happy(num):\n",
    "    seen = set()\n",
    "    while num not in seen:\n",
    "        seen.add(num)\n",
    "        num = sum(int(digit)**2 for digit in str(num))\n",
    "    return num == 1\n",
    "\n",
    "number = int(input(\"Enter a number: \"))\n",
    "result = is_happy(number)\n",
    "if result:\n",
    "    print(number, \"is a Happy Number\")\n",
    "else:\n",
    "    print(number, \"is not a Happy Number\")\n"
   ]
  },
  {
   "cell_type": "markdown",
   "id": "fac04b2e",
   "metadata": {},
   "source": [
    "# 4.\tWrite a Python program to print all happy numbers between 1 and 100?"
   ]
  },
  {
   "cell_type": "code",
   "execution_count": 5,
   "id": "6a92fcc5",
   "metadata": {},
   "outputs": [
    {
     "name": "stdout",
     "output_type": "stream",
     "text": [
      "Happy numbers between 1 and 100:\n",
      "1\n",
      "7\n",
      "10\n",
      "13\n",
      "19\n",
      "23\n",
      "28\n",
      "31\n",
      "32\n",
      "44\n",
      "49\n",
      "68\n",
      "70\n",
      "79\n",
      "82\n",
      "86\n",
      "91\n",
      "94\n",
      "97\n",
      "100\n"
     ]
    }
   ],
   "source": [
    "def is_happy(num):\n",
    "    seen = set()\n",
    "    while num not in seen:\n",
    "        seen.add(num)\n",
    "        num = sum(int(digit)**2 for digit in str(num))\n",
    "    return num == 1\n",
    "\n",
    "print(\"Happy numbers between 1 and 100:\")\n",
    "for i in range(1,101):\n",
    "    if is_happy(i):\n",
    "        print(i)\n"
   ]
  },
  {
   "cell_type": "markdown",
   "id": "27bdb0c0",
   "metadata": {},
   "source": [
    "# 5.\tWrite a Python program to determine whether the given number is a Harshad Number?"
   ]
  },
  {
   "cell_type": "code",
   "execution_count": 6,
   "id": "2d0ea299",
   "metadata": {},
   "outputs": [
    {
     "name": "stdout",
     "output_type": "stream",
     "text": [
      "Enter a number: 45\n",
      "45 is a Harshad Number\n"
     ]
    }
   ],
   "source": [
    "def is_harshad(num):\n",
    "    sum_of_digits = sum(int(digit) for digit in str(num))\n",
    "    return num % sum_of_digits == 0\n",
    "\n",
    "number = int(input(\"Enter a number: \"))\n",
    "result = is_harshad(number)\n",
    "if result:\n",
    "    print(number, \"is a Harshad Number\")\n",
    "else:\n",
    "    print(number, \"is not a Harshad Number\")\n"
   ]
  },
  {
   "cell_type": "markdown",
   "id": "78dba045",
   "metadata": {},
   "source": [
    "# 6.\tWrite a Python program to print all pronic numbers between 1 and 100?"
   ]
  },
  {
   "cell_type": "code",
   "execution_count": 7,
   "id": "bccd8554",
   "metadata": {},
   "outputs": [
    {
     "name": "stdout",
     "output_type": "stream",
     "text": [
      "Pronic numbers between 1 and 100:\n",
      "2\n",
      "6\n",
      "12\n",
      "20\n",
      "30\n",
      "42\n",
      "56\n",
      "72\n",
      "90\n"
     ]
    }
   ],
   "source": [
    "def is_pronic(num):\n",
    "    i = 0\n",
    "    while i*(i+1) <= num:\n",
    "        if i*(i+1) == num:\n",
    "            return True\n",
    "        i += 1\n",
    "    return False\n",
    "\n",
    "print(\"Pronic numbers between 1 and 100:\")\n",
    "for i in range(1,101):\n",
    "    if is_pronic(i):\n",
    "        print(i)\n"
   ]
  },
  {
   "cell_type": "code",
   "execution_count": null,
   "id": "c3afde8e",
   "metadata": {},
   "outputs": [],
   "source": []
  }
 ],
 "metadata": {
  "kernelspec": {
   "display_name": "Python 3 (ipykernel)",
   "language": "python",
   "name": "python3"
  },
  "language_info": {
   "codemirror_mode": {
    "name": "ipython",
    "version": 3
   },
   "file_extension": ".py",
   "mimetype": "text/x-python",
   "name": "python",
   "nbconvert_exporter": "python",
   "pygments_lexer": "ipython3",
   "version": "3.8.5"
  }
 },
 "nbformat": 4,
 "nbformat_minor": 5
}
