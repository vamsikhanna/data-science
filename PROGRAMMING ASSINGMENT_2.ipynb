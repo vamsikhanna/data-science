{
 "cells": [
  {
   "cell_type": "markdown",
   "id": "6914a4d0",
   "metadata": {},
   "source": [
    "# Write a Python program to convert kilometers to miles?"
   ]
  },
  {
   "cell_type": "code",
   "execution_count": 1,
   "id": "2bc6fa1e",
   "metadata": {},
   "outputs": [
    {
     "name": "stdout",
     "output_type": "stream",
     "text": [
      "Please enter the speed of car in Kilometre as a unit: 100\n",
      "The speed value of car in Miles:  62.137100000000004\n"
     ]
    }
   ],
   "source": [
    "kilometre_1 = float (input (\"Please enter the speed of car in Kilometre as a unit: \"))  \n",
    "conversion_ratio_1 = 0.621371  \n",
    "miles_1 = kilometre_1 * conversion_ratio_1  \n",
    "print (\"The speed value of car in Miles: \", miles_1)  "
   ]
  },
  {
   "cell_type": "markdown",
   "id": "efee4bb1",
   "metadata": {},
   "source": [
    "# Write a Python program to convert Celsius to Fahrenheit?"
   ]
  },
  {
   "cell_type": "code",
   "execution_count": 2,
   "id": "56a6bd88",
   "metadata": {},
   "outputs": [
    {
     "name": "stdout",
     "output_type": "stream",
     "text": [
      "Temperature value in degree Celsius: 56\n",
      "The 56.00 degree Celsius is equal to: 132.80 Fahrenheit\n",
      "----OR----\n",
      "Temperature value in degree Celsius: 45\n"
     ]
    }
   ],
   "source": [
    "celsius_1 = float(input(\"Temperature value in degree Celsius: \" ))  \n",
    "  \n",
    "# For Converting the temperature to degree Fahrenheit by using the above  \n",
    "# given formula  \n",
    "Fahrenheit_1 = (celsius_1 * 1.8) + 32  \n",
    "    \n",
    "# print the result  \n",
    "print('The %.2f degree Celsius is equal to: %.2f Fahrenheit'  \n",
    "      %(celsius_1, Fahrenheit_1))  \n",
    "  \n",
    "print(\"----OR----\")  \n",
    "celsius_2 = float (input(\"Temperature value in degree Celsius: \" ))  \n",
    "Fahrenheit_2 = (celsius_2 * 9/5) + 32  \n",
    "    "
   ]
  },
  {
   "cell_type": "markdown",
   "id": "ee03c921",
   "metadata": {},
   "source": [
    "# Write a Python program to display calendar?"
   ]
  },
  {
   "cell_type": "code",
   "execution_count": 3,
   "id": "fd20ce14",
   "metadata": {},
   "outputs": [
    {
     "name": "stdout",
     "output_type": "stream",
     "text": [
      "   November 2022\n",
      "Mo Tu We Th Fr Sa Su\n",
      "    1  2  3  4  5  6\n",
      " 7  8  9 10 11 12 13\n",
      "14 15 16 17 18 19 20\n",
      "21 22 23 24 25 26 27\n",
      "28 29 30\n",
      "\n"
     ]
    }
   ],
   "source": [
    "# Program to display calendar of the given month and year\n",
    "\n",
    "# importing calendar module\n",
    "import calendar\n",
    "\n",
    "yy = 2022  # year\n",
    "mm = 11    # month\n",
    "\n",
    "# To take month and year input from the user\n",
    "# yy = int(input(\"Enter year: \"))\n",
    "# mm = int(input(\"Enter month: \"))\n",
    "\n",
    "# display the calendar\n",
    "print(calendar.month(yy, mm))\n"
   ]
  },
  {
   "cell_type": "markdown",
   "id": "3435c3d6",
   "metadata": {},
   "source": [
    "# Write a Python program to solve quadratic equation?"
   ]
  },
  {
   "cell_type": "code",
   "execution_count": 4,
   "id": "d2435cfb",
   "metadata": {},
   "outputs": [
    {
     "name": "stdout",
     "output_type": "stream",
     "text": [
      "The solution are (-3+0j) and (-2+0j)\n"
     ]
    }
   ],
   "source": [
    "# Solve the quadratic equation ax**2 + bx + c = 0\n",
    "\n",
    "# import complex math module\n",
    "import cmath\n",
    "\n",
    "a = 1\n",
    "b = 5\n",
    "c = 6\n",
    "\n",
    "# calculate the discriminant\n",
    "d = (b**2) - (4*a*c)\n",
    "\n",
    "# find two solutions\n",
    "sol1 = (-b-cmath.sqrt(d))/(2*a)\n",
    "sol2 = (-b+cmath.sqrt(d))/(2*a)\n",
    "\n",
    "print('The solution are {0} and {1}'.format(sol1,sol2))\n"
   ]
  },
  {
   "cell_type": "markdown",
   "id": "eb2bfa7a",
   "metadata": {},
   "source": [
    "# Write a Python program to swap two variables without temp variable?\n",
    "\n"
   ]
  },
  {
   "cell_type": "code",
   "execution_count": 5,
   "id": "218fdfe9",
   "metadata": {},
   "outputs": [
    {
     "name": "stdout",
     "output_type": "stream",
     "text": [
      "x = 10\n",
      "y = 5\n"
     ]
    }
   ],
   "source": [
    "x = 5\n",
    "y = 10\n",
    "\n",
    "x, y = y, x\n",
    "print(\"x =\", x)\n",
    "print(\"y =\", y)\n"
   ]
  },
  {
   "cell_type": "code",
   "execution_count": null,
   "id": "b71b14ee",
   "metadata": {},
   "outputs": [],
   "source": []
  },
  {
   "cell_type": "code",
   "execution_count": null,
   "id": "48d3081d",
   "metadata": {},
   "outputs": [],
   "source": []
  },
  {
   "cell_type": "code",
   "execution_count": null,
   "id": "9093e2bf",
   "metadata": {},
   "outputs": [],
   "source": []
  }
 ],
 "metadata": {
  "kernelspec": {
   "display_name": "Python 3 (ipykernel)",
   "language": "python",
   "name": "python3"
  },
  "language_info": {
   "codemirror_mode": {
    "name": "ipython",
    "version": 3
   },
   "file_extension": ".py",
   "mimetype": "text/x-python",
   "name": "python",
   "nbconvert_exporter": "python",
   "pygments_lexer": "ipython3",
   "version": "3.8.5"
  }
 },
 "nbformat": 4,
 "nbformat_minor": 5
}
